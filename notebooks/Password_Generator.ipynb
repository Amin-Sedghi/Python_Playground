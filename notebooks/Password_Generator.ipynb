{
  "nbformat": 4,
  "nbformat_minor": 0,
  "metadata": {
    "colab": {
      "provenance": []
    },
    "kernelspec": {
      "name": "python3",
      "display_name": "Python 3"
    },
    "language_info": {
      "name": "python"
    }
  },
  "cells": [
    {
      "cell_type": "code",
      "execution_count": 4,
      "metadata": {
        "id": "-DTxl2ZUN8t7"
      },
      "outputs": [],
      "source": [
        "import random\n",
        "import string"
      ]
    },
    {
      "cell_type": "code",
      "source": [
        "def generate_password( min_lenght , numbers=True , special_charactors=True ):\n",
        "\n",
        "  letters= string.ascii_letters\n",
        "  digits= string.digits\n",
        "  special= string.punctuation\n",
        "\n",
        "  character = letters\n",
        "  if numbers:\n",
        "    character += digits\n",
        "  if special_charactors:\n",
        "    character += special\n",
        "\n",
        "  password= \"\"\n",
        "  meets_criteria = False\n",
        "  has_number = False\n",
        "  has_special = False\n",
        "\n",
        "  while not meets_criteria or len(password) < min_lenght:\n",
        "    new_char = random.choice(character)\n",
        "    password += new_char\n",
        "\n",
        "    if new_char in digits:\n",
        "      has_number = True\n",
        "    elif new_char in special:\n",
        "      has_special = True\n",
        "\n",
        "    meets_criteria = True\n",
        "    if numbers:\n",
        "      meets_criteria = has_number\n",
        "    if special_charactors:\n",
        "      meets_criteria = meets_criteria and has_special\n",
        "\n",
        "  return password\n",
        "\n",
        "\n",
        "print(f\"Hello. Welcome to password generator.\\n\")\n",
        "print(f\"Please specify your criteria.\\n\")\n",
        "print(f\"---------------------------------------------------------------------------\")\n",
        "min_lenght = int(input(f\"Enter the minimum length: \"))\n",
        "has_number = input(f\"Do you want to have numbers in your password: (y/n)? \").lower() == 'y'\n",
        "has_special = input(f\"Do you want to have a special characters: (y/n)? \").lower() == 'y'\n",
        "password = generate_password(min_lenght,has_number,has_special)\n",
        "print(f\"---------------------------------------------------------------------------\\n\")\n",
        "print(f\"The generator password is: {password}\")\n",
        "\n",
        "\n",
        "\n",
        "\n"
      ],
      "metadata": {
        "colab": {
          "base_uri": "https://localhost:8080/"
        },
        "id": "Zse7ZZ2-Skqp",
        "outputId": "3e06b00d-c080-40cd-ee30-3398b749f655"
      },
      "execution_count": 12,
      "outputs": [
        {
          "output_type": "stream",
          "name": "stdout",
          "text": [
            "Hello. Welcome to password generator.\n",
            "\n",
            "Please specify your criteria.\n",
            "\n",
            "---------------------------------------------------------------------------\n",
            "Enter the minimum length: 10\n",
            "Do you want to have numbers in your password: (y/n)? y\n",
            "Do you want to have a special characters: (y/n)? y\n",
            "---------------------------------------------------------------------------\n",
            "\n",
            "The generator password is: <Gr\\?cxy%t*[0\n"
          ]
        }
      ]
    }
  ]
}