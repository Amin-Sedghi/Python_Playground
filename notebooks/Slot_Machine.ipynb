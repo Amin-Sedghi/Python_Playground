{
  "nbformat": 4,
  "nbformat_minor": 0,
  "metadata": {
    "colab": {
      "provenance": []
    },
    "kernelspec": {
      "name": "python3",
      "display_name": "Python 3"
    },
    "language_info": {
      "name": "python"
    }
  },
  "cells": [
    {
      "cell_type": "code",
      "source": [
        "import random\n",
        "\n",
        "\n",
        "ROWS = 3\n",
        "COLS = 3\n",
        "\n",
        "\n",
        "symbol_count = {\n",
        "    \"A\": 2,\n",
        "    \"B\": 4,\n",
        "    \"C\": 6,\n",
        "    \"D\": 8}\n",
        "\n",
        "\n",
        "symbol_value = {\n",
        "    \"A\": 5,\n",
        "    \"B\": 4,\n",
        "    \"C\": 3,\n",
        "    \"D\": 2}\n"
      ],
      "metadata": {
        "id": "Amsx7vlRKLtR"
      },
      "execution_count": null,
      "outputs": []
    },
    {
      "cell_type": "code",
      "execution_count": null,
      "metadata": {
        "id": "lq9-cD4rvMG2"
      },
      "outputs": [],
      "source": [
        "def store_deposit():\n",
        "\n",
        "  while True:\n",
        "    deposit = input(f\"Please enter the amount of money you would like to add to your account balance: $\")\n",
        "    if deposit.isdigit():\n",
        "      deposit = int(deposit)\n",
        "      if deposit == 0:\n",
        "        print(f\"This amount of entry is not acceptable! Please try again\")\n",
        "      else:\n",
        "        return deposit\n",
        "    else:\n",
        "      print(f\"Invalid value! Please try again\")\n",
        "\n",
        "\n",
        "def num_lines():\n",
        "\n",
        "  while True:\n",
        "    lines = input(f\"Please indicate the number of lines that you want to bet on you should choose between 1 to 3 Lines: \")\n",
        "    if lines.isdigit():\n",
        "      lines = int(lines)\n",
        "      if (1 > lines) or (lines > 3):\n",
        "        print(f\"This amount of entry is not acceptable! Please try again\")\n",
        "      else:\n",
        "         return lines\n",
        "    else:\n",
        "      print(f\"Invalid value! Please try again\")\n",
        "\n",
        "\n",
        "def get_bet(deposit):\n",
        "\n",
        "  while True:\n",
        "    bet = input(f\"Please indicate the amount of money that you want to bet on each line. Acceptable amount for each line is between 1$ and 100$: $\")\n",
        "    print()\n",
        "    valid_bet = int(bet) * 3\n",
        "    if bet.isdigit():\n",
        "      bet = int(bet)\n",
        "      if (1 > bet) or (bet > 100):\n",
        "        print(f\"This amount of entry is not acceptable! Please try again\")\n",
        "      elif valid_bet > deposit:\n",
        "        print(f\"You don't have enough money to bet! Please try again\")\n",
        "      else:\n",
        "        return bet\n",
        "    else:\n",
        "      print(f\"Invalid value! Please try again\")\n",
        "\n"
      ]
    },
    {
      "cell_type": "code",
      "source": [
        "def get_slot_machine_spin(rows , cols , symbols):\n",
        "  all_symbols = []\n",
        "  for symbol , symbol_count in symbols.items():\n",
        "    for _ in range(symbol_count):\n",
        "      all_symbols.append(symbol)\n",
        "\n",
        "  columns = []\n",
        "  for _ in range(cols):\n",
        "    column = []\n",
        "    current_symbols = all_symbols[:]\n",
        "    for _ in range(rows):\n",
        "      value = random.choice(current_symbols)\n",
        "      current_symbols.remove(value)\n",
        "      column.append(value)\n",
        "\n",
        "    columns.append(column)\n",
        "\n",
        "  return columns\n",
        "\n",
        "\n",
        "def print_slot_machine(columns):\n",
        "  for row in range(len(columns[0])):\n",
        "    for i , column in enumerate(columns):\n",
        "      if i != len(columns) - 1:\n",
        "        print(column[row], end=\" | \")\n",
        "      else:\n",
        "        print(column[row], end= \"\")\n",
        "\n",
        "    print()\n"
      ],
      "metadata": {
        "id": "fNcEJcQHdWJ5"
      },
      "execution_count": null,
      "outputs": []
    },
    {
      "cell_type": "code",
      "source": [
        "def check_winnings(columns, lines, bet , values):\n",
        "  winnings = 0\n",
        "  winning_lines = []\n",
        "  for line in range(lines):\n",
        "    symbol = columns[0][line]\n",
        "    for column in columns:\n",
        "      symbol_to_check = column[line]\n",
        "      if symbol != symbol_to_check:\n",
        "        break\n",
        "    else:\n",
        "      winnings += values[symbol] * bet\n",
        "      winning_lines.append(line + 1)\n",
        "\n",
        "  return winnings , winning_lines\n",
        "\n"
      ],
      "metadata": {
        "id": "bwtXab8Hsmf_"
      },
      "execution_count": null,
      "outputs": []
    },
    {
      "cell_type": "code",
      "source": [
        "def spin(balance):\n",
        "\n",
        "  lines= num_lines()\n",
        "  bet=get_bet(balance)\n",
        "\n",
        "\n",
        "  print(f\"Your balance is: ${balance}\")\n",
        "  print(f\"Number of lines you bet on: {lines}\")\n",
        "  print(f\"Amount you bet on each line: ${bet}\")\n",
        "  print(f\"-------------------------------------------------------------------------\\n\")\n",
        "  slots = get_slot_machine_spin(ROWS , COLS , symbol_count)\n",
        "  print_slot_machine(slots)\n",
        "  winnings , winning_lines = check_winnings(slots,lines,bet,symbol_value)\n",
        "  print(f\"You won ${winnings}.\")\n",
        "  print(f\"You won on lines:\", *winning_lines)\n",
        "  total_bet = bet * lines\n",
        "  return winnings - total_bet\n"
      ],
      "metadata": {
        "id": "ZD8SlM4xu4Cp"
      },
      "execution_count": null,
      "outputs": []
    },
    {
      "cell_type": "code",
      "source": [
        "def main():\n",
        "\n",
        "  print(f\"Welcome!\\n\")\n",
        "  print(f\"-------------------------------------------------------------------------\")\n",
        "  balance=store_deposit()\n",
        "  while True:\n",
        "    print(f\"current balance is: ${balance}\")\n",
        "    play = input(f\"Press any key to play and q to quit.\").lower()\n",
        "    if play == 'q':\n",
        "      break\n",
        "    else:\n",
        "      balance += spin(balance)\n",
        "\n",
        "  print(f'you left with: ${balance}')\n",
        "\n",
        "\n",
        "main()"
      ],
      "metadata": {
        "colab": {
          "base_uri": "https://localhost:8080/"
        },
        "id": "zrR5lB24Q31V",
        "outputId": "ee6efcb2-85b5-4081-b786-5b9db9b25834"
      },
      "execution_count": null,
      "outputs": [
        {
          "output_type": "stream",
          "name": "stdout",
          "text": [
            "Welcome!\n",
            "\n",
            "-------------------------------------------------------------------------\n",
            "Please enter the amount of money you would like to add to your account balance: $300\n",
            "current balance is: $300\n",
            "Press any key to play and q to quit.\n",
            "Please indicate the number of lines that you want to bet on you should choose between 1 to 3 Lines: 3\n",
            "Please indicate the amount of money that you want to bet on each line. Acceptable amount for each line is between 1$ and 100$: $20\n",
            "\n",
            "Your balance is: $300\n",
            "Number of lines you bet on: 3\n",
            "Amount you bet on each line: $20\n",
            "-------------------------------------------------------------------------\n",
            "\n",
            "C | D | C\n",
            "C | D | C\n",
            "C | C | D\n",
            "You won $0.\n",
            "You won on lines:\n",
            "current balance is: $240\n",
            "Press any key to play and q to quit.\n",
            "Please indicate the number of lines that you want to bet on you should choose between 1 to 3 Lines: 3\n",
            "Please indicate the amount of money that you want to bet on each line. Acceptable amount for each line is between 1$ and 100$: $20\n",
            "\n",
            "Your balance is: $240\n",
            "Number of lines you bet on: 3\n",
            "Amount you bet on each line: $20\n",
            "-------------------------------------------------------------------------\n",
            "\n",
            "D | B | C\n",
            "C | C | A\n",
            "D | C | C\n",
            "You won $0.\n",
            "You won on lines:\n",
            "current balance is: $180\n",
            "Press any key to play and q to quit.\n",
            "Please indicate the number of lines that you want to bet on you should choose between 1 to 3 Lines: 3\n",
            "Please indicate the amount of money that you want to bet on each line. Acceptable amount for each line is between 1$ and 100$: $10\n",
            "\n",
            "Your balance is: $180\n",
            "Number of lines you bet on: 3\n",
            "Amount you bet on each line: $10\n",
            "-------------------------------------------------------------------------\n",
            "\n",
            "A | D | D\n",
            "C | D | A\n",
            "C | B | C\n",
            "You won $0.\n",
            "You won on lines:\n",
            "current balance is: $150\n",
            "Press any key to play and q to quit.q\n",
            "you left with: $150\n"
          ]
        }
      ]
    }
  ]
}