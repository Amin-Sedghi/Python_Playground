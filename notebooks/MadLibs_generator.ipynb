{
  "nbformat": 4,
  "nbformat_minor": 0,
  "metadata": {
    "colab": {
      "provenance": []
    },
    "kernelspec": {
      "name": "python3",
      "display_name": "Python 3"
    },
    "language_info": {
      "name": "python"
    }
  },
  "cells": [
    {
      "cell_type": "markdown",
      "source": [
        "**Mad Libs generator**\n",
        "\n",
        "The game involves users providing input to replace placeholders in a story (such as nouns, verbs, adjectives, etc.), and the game then displays the updated story with the user's answers filled in. It's a fun and interactive way to create personalized, often humorous, stories.\n",
        "\n",
        "\n",
        "\n",
        "In the below code cell we call any story we want in .txt format to play with in our program."
      ],
      "metadata": {
        "id": "2pg1Ihq8M71N"
      }
    },
    {
      "cell_type": "code",
      "execution_count": 27,
      "metadata": {
        "id": "UB89iK273ly4"
      },
      "outputs": [],
      "source": [
        "with open(\"story.txt\",\"r\") as f:\n",
        "  story = f.read()"
      ]
    },
    {
      "cell_type": "markdown",
      "source": [
        "In the following cell, we will identify words with a specific form, such as:\n",
        "\n",
        "< place >\n",
        "\n",
        "and replace them with the user's input."
      ],
      "metadata": {
        "id": "jBkRcrhCg5cg"
      }
    },
    {
      "cell_type": "code",
      "source": [
        "start= '<'\n",
        "end= '>'\n",
        "start_of_word= 0\n",
        "words=set()\n",
        "\n",
        "for index, char in enumerate(story):\n",
        "  if char == start:\n",
        "    start_of_word= index\n",
        "  if char == end and start_of_word != 0:\n",
        "    word= story[start_of_word : index + 1]\n",
        "    words.add(word)\n",
        "    start_of_word = 0\n",
        ""
      ],
      "metadata": {
        "id": "s8IRPqsYNe3u"
      },
      "execution_count": 28,
      "outputs": []
    },
    {
      "cell_type": "markdown",
      "source": [
        "In the following cell, we will prompt users for input and then insert their responses into our dictionary."
      ],
      "metadata": {
        "id": "LR81hOlQhlK-"
      }
    },
    {
      "cell_type": "code",
      "source": [
        "answers={}\n",
        "\n",
        "for word in words:\n",
        "  answer= input(f'Enter an answer to {word}: ')\n",
        "  answers[word]= answer\n",
        ""
      ],
      "metadata": {
        "colab": {
          "base_uri": "https://localhost:8080/"
        },
        "id": "Z4dbsl8ATXZz",
        "outputId": "164c9af9-2a77-427a-c88e-fff50aef11c5"
      },
      "execution_count": 29,
      "outputs": [
        {
          "name": "stdout",
          "output_type": "stream",
          "text": [
            "Enter an answer to <body part>: Arm\n",
            "Enter an answer to <noun>: mountain\n",
            "Enter an answer to <emotion>: sad\n",
            "Enter an answer to <verb ending in \"ing\">: hiking\n",
            "Enter an answer to <verb>: hike\n",
            "Enter an answer to <animal>: lion\n",
            "Enter an answer to <object>: tree\n",
            "Enter an answer to <verb in past tense>: hunted\n",
            "Enter an answer to <color>: red\n",
            "Enter an answer to <family member>: mom\n",
            "Enter an answer to <adjective>: brave\n",
            "Enter an answer to <place>: home\n"
          ]
        }
      ]
    },
    {
      "cell_type": "markdown",
      "source": [
        "Here, we will replace the placeholders in the story with the user's answers and display the updated story in the output."
      ],
      "metadata": {
        "id": "zcbygWOrh9a_"
      }
    },
    {
      "cell_type": "code",
      "source": [
        "for word in words:\n",
        "  story= story.replace(word,answers[word])\n",
        "\n",
        "\n",
        "print(story)"
      ],
      "metadata": {
        "colab": {
          "base_uri": "https://localhost:8080/"
        },
        "id": "tA8bevkmh59u",
        "outputId": "323536d6-7b09-4344-b08b-bc30325e3b00"
      },
      "execution_count": 30,
      "outputs": [
        {
          "output_type": "stream",
          "name": "stdout",
          "text": [
            "Title: A Day at the home\n",
            "\n",
            "It was a brave day at the home. The sun was hiking in the brave sky, and everyone was feeling sad.\n",
            "I decided to bring my mountain with me and hike around the home. Suddenly, I saw a brave lion that was hiking a mountain.\n",
            "I couldn't believe my Arm! I hunted over to take a closer look, but the lion hunted away.\n",
            "Instead, I found a brave tree on the ground. It was red and looked very brave.\n",
            "I decided to take it home and show it to my mom. They said, \"Wow, this is brave! You should hike it.\"\n",
            "What an brave day at the home!\n"
          ]
        }
      ]
    }
  ]
}