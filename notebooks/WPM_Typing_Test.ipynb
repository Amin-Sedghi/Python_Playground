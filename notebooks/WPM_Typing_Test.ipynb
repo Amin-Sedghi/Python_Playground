import time
import random
from IPython.display import clear_output





SAMPLE_TEXTS = [
    
    "The quick brown fox jumps over the lazy dog.",
    "To be or not to be, that is the question.",
    "All that glitters is not gold.",
    "Practice makes perfect when learning to type quickly.",
    "The best way to predict the future is to create it.",
    "Computer keyboards are essential for inputting information quickly and efficiently. The most common layout is the QWERTY design.",
    "The preservation of natural habitats is vital for maintaining biodiversity and ecological balance. Conservation efforts must be increased to protect our planet."

]





def get_random_text():

   
    return random.choice(SAMPLE_TEXTS)




def calculate_wpm(text, elapsed_time):

    
    words = len(text) / 5
    minutes = elapsed_time / 60
    return 0 if minutes == 0 else round(words / minutes)




def calculate_accuracy(target_text, typed_text):

    
    if len(typed_text) == 0:
        return 0.0
    
    correct_chars = sum(1 for t, c in zip(target_text, typed_text) if t == c)
    return (correct_chars / len(target_text)) * 100




def run_typing_test():

    target_text = get_random_text()
    print("Type this text:")
    print(target_text)
    print("\nPress Enter when you're ready to start typing!")
    input()
    
    start_time = time.time()
    typed_text = input("Start typing: ")
    end_time = time.time()
    
    elapsed_time = end_time - start_time
    wpm = calculate_wpm(typed_text, elapsed_time)
    accuracy = calculate_accuracy(target_text, typed_text)
    
    print("\nResults:")
    print(f"Time: {elapsed_time:.2f} seconds")
    print(f"WPM: {wpm}")
    print(f"Accuracy: {accuracy:.2f}%")
    
    return wpm, accuracy






def main():

    while True:
        clear_output(wait=True)
        print("=== Python Typing Speed Test ===")
        wpm, accuracy = run_typing_test()
        
        again = input("\nWould you like to try again? (y/n): ")
        if again.lower() != 'y':
            print("Thank you for practicing!")
            break






if __name__ == '__main__':
    main()
