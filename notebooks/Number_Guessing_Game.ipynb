{
  "nbformat": 4,
  "nbformat_minor": 0,
  "metadata": {
    "colab": {
      "provenance": []
    },
    "kernelspec": {
      "name": "python3",
      "display_name": "Python 3"
    },
    "language_info": {
      "name": "python"
    }
  },
  "cells": [
    {
      "cell_type": "code",
      "source": [
        "def receive_check():\n",
        "  try:\n",
        "    guessed_number = int(input('Please Enter a number betwwen 0 and 20:'))\n",
        "    if 0 <= guessed_number <= 20:\n",
        "      return guessed_number\n",
        "    else:\n",
        "      print('The guessed number is not in the defined range. Please try again!')\n",
        "  except ValueError:\n",
        "    print('Invalid input. Please write an integer!')\n"
      ],
      "metadata": {
        "id": "olP5sSJbQFn5"
      },
      "execution_count": 2,
      "outputs": []
    },
    {
      "cell_type": "code",
      "execution_count": null,
      "metadata": {
        "id": "mlWega4cKt6c"
      },
      "outputs": [],
      "source": [
        "import random\n",
        "\n",
        "random_number = random.randint(0 , 20)\n",
        "print(\"Let's play! Try to guess the number between 0 and 20\")\n",
        "guessed_number = receive_check()\n",
        "\n",
        "while True:\n",
        "  if guessed_number > random_number:\n",
        "    print('The guessed number is higher than expected result! Please try again')\n",
        "    guessed_number = receive_check()\n",
        "  elif guessed_number < random_number:\n",
        "    print('The guessed number is lower than expected result!Please try again')\n",
        "    guessed_number = receive_check()\n",
        "  elif random_number == guessed_number:\n",
        "    print(\"Excellent you guessed the number correctly!\")\n",
        "    break\n",
        "\n",
        "\n",
        "\n"
      ]
    }
  ]
}