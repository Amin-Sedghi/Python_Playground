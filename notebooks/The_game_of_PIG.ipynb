{
  "nbformat": 4,
  "nbformat_minor": 0,
  "metadata": {
    "colab": {
      "provenance": []
    },
    "kernelspec": {
      "name": "python3",
      "display_name": "Python 3"
    },
    "language_info": {
      "name": "python"
    }
  },
  "cells": [
    {
      "cell_type": "markdown",
      "source": [
        "This code is for PIG game.\n",
        "\n",
        "Below are the libraries."
      ],
      "metadata": {
        "id": "YyS5VeUIdFvq"
      }
    },
    {
      "cell_type": "code",
      "execution_count": 30,
      "metadata": {
        "id": "qdDweW2RZZLa"
      },
      "outputs": [],
      "source": [
        "import random"
      ]
    },
    {
      "cell_type": "markdown",
      "source": [
        "Below is the function representing Dice."
      ],
      "metadata": {
        "id": "uI7meQ_CdK8m"
      }
    },
    {
      "cell_type": "code",
      "source": [
        "def roll():\n",
        "  value = random.randint(1,6)\n",
        "  return value\n"
      ],
      "metadata": {
        "id": "VlZ1WleYc9bw"
      },
      "execution_count": 31,
      "outputs": []
    },
    {
      "cell_type": "markdown",
      "source": [
        "Below is the function asking how many players want to play and it is limited between 2 to 4 person."
      ],
      "metadata": {
        "id": "Q-3b9llndlOt"
      }
    },
    {
      "cell_type": "code",
      "source": [
        "def number_players():\n",
        "  while True:\n",
        "    num_players= input(\"Please select the number of players betwwen 2 and 4: \")\n",
        "    try:\n",
        "      num_players = int(num_players)\n",
        "      if num_players < 2 or num_players > 4:\n",
        "        print(f'\\nInvalid input. please select the number of players between 2 to 4 players.\\n')\n",
        "      else:\n",
        "        print(f\"\\nThe number of playres are {num_players}.Let's Play!\\n\")\n",
        "        return num_players\n",
        "    except ValueError:\n",
        "      print(\"\\nInvalid input. Please insert an digit number!\\n\")\n"
      ],
      "metadata": {
        "id": "D3O4qICec5np"
      },
      "execution_count": 32,
      "outputs": []
    },
    {
      "cell_type": "markdown",
      "source": [
        "Below is the main function representing structure and roles of the game."
      ],
      "metadata": {
        "id": "OngY0pYsdzxU"
      }
    },
    {
      "cell_type": "code",
      "source": [
        "def main():\n",
        "\n",
        "  print(f\"Welcome to the game. Let's first start with defining how many players will be play.\\n\")\n",
        "  num_players= number_players()\n",
        "  print(f\"Ok. The below is the Scoreboard:\\n\")\n",
        "  scoreboard = [0 for _ in range(num_players)]\n",
        "  print(f'{scoreboard}\\n')\n",
        "  max_score= 20\n",
        "\n",
        "  while max(scoreboard) < max_score:\n",
        "    for player_idx in range(num_players):\n",
        "      print(f'player {player_idx+1} it is your turn')\n",
        "      print(f'Your total score is {scoreboard[player_idx]}\\n')\n",
        "      current_score= 0\n",
        "      while True:\n",
        "        shall_roll= input(f'Would you like to roll? (y) ').lower()\n",
        "        if shall_roll != 'y':\n",
        "          break\n",
        "\n",
        "        value= roll()\n",
        "        if value == 1:\n",
        "          print(f'You rolled: {value}. Turn done!')\n",
        "          current_score = 0\n",
        "          break\n",
        "        else:\n",
        "          print(f'You rolled: {value}')\n",
        "          current_score += value\n",
        "        print(f'Your score: {current_score}\\n')\n",
        "      scoreboard[player_idx] += current_score\n",
        "      print(f'Your total score is:{scoreboard[player_idx]}\\n')\n",
        "\n",
        "  max_score=max(scoreboard)\n",
        "  winning_idx= scoreboard.index(max_score)\n",
        "\n",
        "  print(f'Player number {winning_idx+1} won the game.')\n",
        "\n",
        "main()\n",
        "\n",
        "\n",
        "\n",
        "\n",
        "\n",
        "\n",
        "\n",
        "\n",
        "\n"
      ],
      "metadata": {
        "colab": {
          "base_uri": "https://localhost:8080/"
        },
        "id": "RxNaVY7oc1Al",
        "outputId": "902c192b-22ff-42e8-c646-db4491065336"
      },
      "execution_count": 33,
      "outputs": [
        {
          "output_type": "stream",
          "name": "stdout",
          "text": [
            "Welcome to the game. Let's first start with defining how many players will be play.\n",
            "\n",
            "Please select the number of players betwwen 2 and 4: 2\n",
            "\n",
            "The number of playres are 2.Let's Play!\n",
            "\n",
            "Ok. The below is the Scoreboard:\n",
            "\n",
            "[0, 0]\n",
            "\n",
            "player 1 it is your turn\n",
            "Your total score is 0\n",
            "\n",
            "Would you like to roll? (y) y\n",
            "You rolled: 1. Turn done!\n",
            "Your total score is:0\n",
            "\n",
            "player 2 it is your turn\n",
            "Your total score is 0\n",
            "\n",
            "Would you like to roll? (y) y\n",
            "You rolled: 5\n",
            "Your score: 5\n",
            "\n",
            "Would you like to roll? (y) y\n",
            "You rolled: 1. Turn done!\n",
            "Your total score is:0\n",
            "\n",
            "player 1 it is your turn\n",
            "Your total score is 0\n",
            "\n",
            "Would you like to roll? (y) y\n",
            "You rolled: 5\n",
            "Your score: 5\n",
            "\n",
            "Would you like to roll? (y) y\n",
            "You rolled: 3\n",
            "Your score: 8\n",
            "\n",
            "Would you like to roll? (y) y\n",
            "You rolled: 5\n",
            "Your score: 13\n",
            "\n",
            "Would you like to roll? (y) y\n",
            "You rolled: 2\n",
            "Your score: 15\n",
            "\n",
            "Would you like to roll? (y) y\n",
            "You rolled: 4\n",
            "Your score: 19\n",
            "\n",
            "Would you like to roll? (y) n\n",
            "Your total score is:19\n",
            "\n",
            "player 2 it is your turn\n",
            "Your total score is 0\n",
            "\n",
            "Would you like to roll? (y) y\n",
            "You rolled: 2\n",
            "Your score: 2\n",
            "\n",
            "Would you like to roll? (y) y\n",
            "You rolled: 2\n",
            "Your score: 4\n",
            "\n",
            "Would you like to roll? (y) y\n",
            "You rolled: 1. Turn done!\n",
            "Your total score is:0\n",
            "\n",
            "player 1 it is your turn\n",
            "Your total score is 19\n",
            "\n",
            "Would you like to roll? (y) y\n",
            "You rolled: 2\n",
            "Your score: 2\n",
            "\n",
            "Would you like to roll? (y) y\n",
            "You rolled: 6\n",
            "Your score: 8\n",
            "\n",
            "Would you like to roll? (y) n\n",
            "Your total score is:27\n",
            "\n",
            "player 2 it is your turn\n",
            "Your total score is 0\n",
            "\n",
            "Would you like to roll? (y) y\n",
            "You rolled: 4\n",
            "Your score: 4\n",
            "\n",
            "Would you like to roll? (y) y\n",
            "You rolled: 3\n",
            "Your score: 7\n",
            "\n",
            "Would you like to roll? (y) y\n",
            "You rolled: 2\n",
            "Your score: 9\n",
            "\n",
            "Would you like to roll? (y) y\n",
            "You rolled: 5\n",
            "Your score: 14\n",
            "\n",
            "Would you like to roll? (y) y\n",
            "You rolled: 2\n",
            "Your score: 16\n",
            "\n",
            "Would you like to roll? (y) y\n",
            "You rolled: 3\n",
            "Your score: 19\n",
            "\n",
            "Would you like to roll? (y) y\n",
            "You rolled: 3\n",
            "Your score: 22\n",
            "\n",
            "Would you like to roll? (y) n\n",
            "Your total score is:22\n",
            "\n",
            "Player number 1 won the game.\n"
          ]
        }
      ]
    }
  ]
}