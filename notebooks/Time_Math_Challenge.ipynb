{
  "nbformat": 4,
  "nbformat_minor": 0,
  "metadata": {
    "colab": {
      "provenance": []
    },
    "kernelspec": {
      "name": "python3",
      "display_name": "Python 3"
    },
    "language_info": {
      "name": "python"
    }
  },
  "cells": [
    {
      "cell_type": "code",
      "execution_count": 13,
      "metadata": {
        "id": "1W2117s-xKQI",
        "colab": {
          "base_uri": "https://localhost:8080/"
        },
        "outputId": "44a07da7-6ed3-4400-ee3a-9c6a50828488"
      },
      "outputs": [
        {
          "output_type": "stream",
          "name": "stdout",
          "text": [
            "Let's Play\n",
            "\n",
            "Press any key to start. By starting the game the timer will start to!\n",
            "--------------------------------------------------------------------------\n",
            "\n",
            "Problem number 1: 3 + 3 =6\n",
            "Problem number 2: 4 * 7 =28\n",
            "Problem number 3: 4 * 12 =48\n",
            "Problem number 4: 8 + 6 =14\n",
            "Problem number 5: 10 * 12 =120\n",
            "Problem number 6: 4 + 7 =11\n",
            "Problem number 7: 3 + 4 =7\n",
            "Problem number 8: 8 * 6 =48\n",
            "Problem number 9: 5 * 5 =25\n",
            "Problem number 10: 5 - 8 =-3\n",
            "--------------------------------------------------------------------------\n",
            "\n",
            "You answered all questions in 41.21 seconds!\n",
            "\n",
            "Nice job\n"
          ]
        }
      ],
      "source": [
        "import random\n",
        "import time\n",
        "\n",
        "\n",
        "min_operand= 3\n",
        "max_operand = 12\n",
        "number_of_problems = 10\n",
        "operators = [\"+\" , \"-\" ,\"*\"]\n",
        "\n",
        "def problem_generator():\n",
        "  left = random.randint(min_operand,max_operand)\n",
        "  right = random.randint(min_operand,max_operand)\n",
        "  problem = str(left) + ' ' + random.choice(operators) + ' ' + str(right)\n",
        "  answer = eval(problem)\n",
        "  return problem , answer\n",
        "\n",
        "\n",
        "print(\"Let's Play\\n\")\n",
        "input(f\"Press any key to start. By starting the game the timer will start to!\")\n",
        "print(f\"--------------------------------------------------------------------------\\n\")\n",
        "\n",
        "start_of_time= time.time()\n",
        "\n",
        "for i in range(number_of_problems):\n",
        "  problem , answer = problem_generator()\n",
        "  while True:\n",
        "    guess = input(f\"Problem number {i+1}: {problem} =\")\n",
        "    if str(answer) == guess:\n",
        "      break\n",
        "    else:\n",
        "      print(f\"Wrong answer! Please try again\\n\")\n",
        "\n",
        "end_of_time= time.time()\n",
        "\n",
        "total_time= round(end_of_time - start_of_time,2)\n",
        "\n",
        "print(f\"--------------------------------------------------------------------------\\n\")\n",
        "print(f\"You answered all questions in {total_time} seconds!\\n\")\n",
        "print(f\"Nice job\")\n",
        "\n",
        "\n"
      ]
    }
  ]
}